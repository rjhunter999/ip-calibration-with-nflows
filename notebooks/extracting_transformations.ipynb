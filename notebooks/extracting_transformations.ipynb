{
 "cells": [
  {
   "cell_type": "code",
   "execution_count": 1,
   "metadata": {},
   "outputs": [],
   "source": [
    "# If you don't already have it...\n",
    "#import sys\n",
    "#!{sys.executable} -m pip install nflows\n",
    "#!{sys.executable} -m pip install uproot"
   ]
  },
  {
   "cell_type": "markdown",
   "metadata": {},
   "source": [
    "### Extracting and inverting transformations\n",
    "\n",
    "Up until now, I've managed to train a flow to go from a Gaussian to the LHCb simulated IP distribution of Z->mu mu decays. \n",
    "\n",
    "It'll work just as well from a Gaussian to the data shape.\n",
    "\n",
    "If this were to be used in an analysis, we'd need to tie these together into 1 2-step transformation.\n",
    "\n",
    "Then we need to be able to extract the transformation as a 1-to-1 function that we can apply, rather than a sampling.\n",
    "\n",
    "First of all, let's use a v.simple test transform of e.g. 1D Gaussian -> Gaussian to work out how to string 2 transforms together, and then extract a transformation function. We could then apply the transformation function on another sample to check that it works fine.  "
   ]
  },
  {
   "cell_type": "markdown",
   "metadata": {},
   "source": []
  }
 ],
 "metadata": {
  "kernelspec": {
   "display_name": "Python 3",
   "language": "python",
   "name": "python3"
  },
  "language_info": {
   "codemirror_mode": {
    "name": "ipython",
    "version": 3
   },
   "file_extension": ".py",
   "mimetype": "text/x-python",
   "name": "python",
   "nbconvert_exporter": "python",
   "pygments_lexer": "ipython3",
   "version": "3.9.18"
  }
 },
 "nbformat": 4,
 "nbformat_minor": 2
}
